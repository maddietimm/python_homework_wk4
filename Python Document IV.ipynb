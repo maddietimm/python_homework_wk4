{
 "cells": [
  {
   "cell_type": "markdown",
   "metadata": {},
   "source": [
    "# Object-Oriented-Programming (OOP)"
   ]
  },
  {
   "cell_type": "markdown",
   "metadata": {},
   "source": [
    "## Tasks Today:\n",
    "\n",
    "   \n",
    "\n",
    "1) <b>Creating a Class (Initializing/Declaring)</b> <br>\n",
    "2) <b>Using a Class (Instantiating)</b> <br>\n",
    " &nbsp;&nbsp;&nbsp;&nbsp; a) Creating One Instance <br>\n",
    " &nbsp;&nbsp;&nbsp;&nbsp; b) Creating Multiple Instances <br>\n",
    " &nbsp;&nbsp;&nbsp;&nbsp; c) In-Class Exercise #1 - Create a Class 'Car' and instantiate three different makes of cars <br>\n",
    "3) <b>The \\__init\\__() Method</b> <br>\n",
    " &nbsp;&nbsp;&nbsp;&nbsp; a) The 'self' Attribute <br>\n",
    "4) <b>Class Attributes</b> <br>\n",
    " &nbsp;&nbsp;&nbsp;&nbsp; a) Initializing Attributes <br>\n",
    " &nbsp;&nbsp;&nbsp;&nbsp; b) Setting an Attribute Outside of the \\__init\\__() Method <br>\n",
    " &nbsp;&nbsp;&nbsp;&nbsp; c) Setting Defaults for Attributes <br>\n",
    " &nbsp;&nbsp;&nbsp;&nbsp; d) Accessing Class Attributes <br>\n",
    " &nbsp;&nbsp;&nbsp;&nbsp; e) Changing Class Attributes <br>\n",
    " &nbsp;&nbsp;&nbsp;&nbsp; f) In-Class Exercise #2 - Add a color and wheels attribute to your 'Car' class <br>\n",
    "5) <b>Class Methods</b> <br>\n",
    " &nbsp;&nbsp;&nbsp;&nbsp; a) Creating <br>\n",
    " &nbsp;&nbsp;&nbsp;&nbsp; b) Calling <br>\n",
    " &nbsp;&nbsp;&nbsp;&nbsp; c) Modifying an Attribute's Value Through a Method <br>\n",
    " &nbsp;&nbsp;&nbsp;&nbsp; d) Incrementing an Attribute's Value Through a Method <br>\n",
    " &nbsp;&nbsp;&nbsp;&nbsp; e) In-Class Exercise #3 - Add a method that prints the cars color and wheel number, then call them <br>\n",
    "6) <b>Inheritance</b> <br>\n",
    " &nbsp;&nbsp;&nbsp;&nbsp; a) Syntax for Inheriting from a Parent Class <br>\n",
    " &nbsp;&nbsp;&nbsp;&nbsp; b) The \\__init\\__() Method for a Child Class (super()) <br>\n",
    " &nbsp;&nbsp;&nbsp;&nbsp; c) Defining Attributes and Methods for the Child Class <br>\n",
    " &nbsp;&nbsp;&nbsp;&nbsp; d) Method Overriding <br>\n",
    " &nbsp;&nbsp;&nbsp;&nbsp; e) In-Class Exercise #4 - Create a class 'Ford' that inherits from 'Car' class and initialize it as a Blue Ford Explorer with 4 wheels using the super() method <br>\n",
    "7) <b>Classes as Attributes</b> <br>\n",
    "8) <b>Exercises</b> <br>\n",
    " &nbsp;&nbsp;&nbsp;&nbsp; a) Exercise #1 - Turn the shopping cart program from yesterday into an object-oriented program <br>"
   ]
  },
  {
   "cell_type": "markdown",
   "metadata": {},
   "source": [
    "## Creating a Class (Initializing/Declaring)\n",
    "<p>When creating a class, function, or even a variable you are initializing that object. Initializing and Declaring occur at the same time in Python, whereas in lower level languages you have to declare an object before initializing it. This is the first step in the process of using a class.</p>"
   ]
  },
  {
   "cell_type": "code",
   "execution_count": 13,
   "metadata": {},
   "outputs": [
    {
     "ename": "AttributeError",
     "evalue": "'Car' object has no attribute 'headlights'",
     "output_type": "error",
     "traceback": [
      "\u001b[1;31m---------------------------------------------------------------------------\u001b[0m",
      "\u001b[1;31mAttributeError\u001b[0m                            Traceback (most recent call last)",
      "\u001b[1;32m~\\AppData\\Local\\Temp/ipykernel_3892/1427322908.py\u001b[0m in \u001b[0;36m<module>\u001b[1;34m\u001b[0m\n\u001b[0;32m      8\u001b[0m \u001b[1;33m\u001b[0m\u001b[0m\n\u001b[0;32m      9\u001b[0m \u001b[0mvolkswagen\u001b[0m \u001b[1;33m=\u001b[0m \u001b[0mCar\u001b[0m\u001b[1;33m(\u001b[0m\u001b[1;33m)\u001b[0m\u001b[1;33m\u001b[0m\u001b[1;33m\u001b[0m\u001b[0m\n\u001b[1;32m---> 10\u001b[1;33m \u001b[0mvolkswagen\u001b[0m\u001b[1;33m.\u001b[0m\u001b[0mheadlights\u001b[0m\u001b[1;33m(\u001b[0m\u001b[1;33m)\u001b[0m\u001b[1;33m\u001b[0m\u001b[1;33m\u001b[0m\u001b[0m\n\u001b[0m",
      "\u001b[1;31mAttributeError\u001b[0m: 'Car' object has no attribute 'headlights'"
     ]
    }
   ],
   "source": [
    "class Car():\n",
    "    wheels = 4\n",
    "    color = 'blue'\n",
    "    windshield_wipers = 'wee woo wee woo'\n",
    "    \n",
    "    def headlight():\n",
    "        print(\"Turn them on for safety, do not crash into a moose!\")\n",
    "        \n",
    "volkswagen = Car()\n",
    "volkswagen.headlights()"
   ]
  },
  {
   "cell_type": "markdown",
   "metadata": {},
   "source": [
    "## Using a Class (Instantiating)\n",
    "<p>The process of creating a class is called <i>Instantiating</i>. Each time you create a variable of that type of class, it is referred to as an <i>Instance</i> of that class. This is the second step in the process of using a class.</p>"
   ]
  },
  {
   "cell_type": "markdown",
   "metadata": {},
   "source": [
    "##### Creating One Instance"
   ]
  },
  {
   "cell_type": "code",
   "execution_count": 6,
   "metadata": {},
   "outputs": [
    {
     "name": "stdout",
     "output_type": "stream",
     "text": [
      "blue\n",
      "wee woo wee woo\n"
     ]
    }
   ],
   "source": [
    "ford = Car()\n",
    "\n",
    "print(ford.color)\n",
    "print(ford.windshield_wipers)"
   ]
  },
  {
   "cell_type": "markdown",
   "metadata": {},
   "source": [
    "##### Creating Multiple Instances"
   ]
  },
  {
   "cell_type": "code",
   "execution_count": 9,
   "metadata": {},
   "outputs": [
    {
     "name": "stdout",
     "output_type": "stream",
     "text": [
      "<class 'str'>\n"
     ]
    },
    {
     "ename": "AttributeError",
     "evalue": "'Car' object has no attribute 'bumber'",
     "output_type": "error",
     "traceback": [
      "\u001b[1;31m---------------------------------------------------------------------------\u001b[0m",
      "\u001b[1;31mAttributeError\u001b[0m                            Traceback (most recent call last)",
      "\u001b[1;32m~\\AppData\\Local\\Temp/ipykernel_3892/272462004.py\u001b[0m in \u001b[0;36m<module>\u001b[1;34m\u001b[0m\n\u001b[0;32m      4\u001b[0m \u001b[1;33m\u001b[0m\u001b[0m\n\u001b[0;32m      5\u001b[0m \u001b[0mprint\u001b[0m\u001b[1;33m(\u001b[0m\u001b[0mtype\u001b[0m\u001b[1;33m(\u001b[0m\u001b[0mporsche\u001b[0m\u001b[1;33m.\u001b[0m\u001b[0mcolor\u001b[0m\u001b[1;33m)\u001b[0m\u001b[1;33m)\u001b[0m\u001b[1;33m\u001b[0m\u001b[1;33m\u001b[0m\u001b[0m\n\u001b[1;32m----> 6\u001b[1;33m \u001b[0mprint\u001b[0m\u001b[1;33m(\u001b[0m\u001b[0mporsche\u001b[0m\u001b[1;33m.\u001b[0m\u001b[0mbumber\u001b[0m\u001b[1;33m)\u001b[0m\u001b[1;33m\u001b[0m\u001b[1;33m\u001b[0m\u001b[0m\n\u001b[0m",
      "\u001b[1;31mAttributeError\u001b[0m: 'Car' object has no attribute 'bumber'"
     ]
    }
   ],
   "source": [
    "chevrolet = Car()\n",
    "honda = Car()\n",
    "porsche = Car()\n",
    "\n",
    "print(type(porsche.color))\n",
    "print(porsche.bumber)"
   ]
  },
  {
   "cell_type": "markdown",
   "metadata": {},
   "source": [
    "##### In-Class Exercise #1 - Create a Class 'Car' and Instantiate three different makes of cars"
   ]
  },
  {
   "cell_type": "code",
   "execution_count": 12,
   "metadata": {},
   "outputs": [
    {
     "name": "stdout",
     "output_type": "stream",
     "text": [
      "4\n",
      "bio-diesel\n",
      "chrome\n",
      "4\n"
     ]
    }
   ],
   "source": [
    "class Car():\n",
    "    doors = 4\n",
    "    color = \"black\"\n",
    "    wheels = 4\n",
    "    bumper = \"chrome\"\n",
    "    gas_type = \"bio-diesel\"\n",
    "\n",
    "chevrolet = Car()\n",
    "volkswagon = Car()\n",
    "hyundai = Car()\n",
    "ford = Car()\n",
    "\n",
    "print(chevrolet.doors)\n",
    "print(volkswagon.gas_type)\n",
    "print(hyundai.bumper)\n",
    "print(ford.wheels)"
   ]
  },
  {
   "cell_type": "markdown",
   "metadata": {},
   "source": [
    "## The \\__init\\__() Method <br>\n",
    "<p>This method is used in almost every created class, and called only once upon the creation of the class instance. This method will initialize all variables needed for the object.</p>"
   ]
  },
  {
   "cell_type": "code",
   "execution_count": 18,
   "metadata": {},
   "outputs": [
    {
     "name": "stdout",
     "output_type": "stream",
     "text": [
      "black\n",
      "blue\n",
      "4\n",
      "6\n"
     ]
    }
   ],
   "source": [
    "class Car():\n",
    "    engine = \"4.7L\" # global within class - any method inside class can call upon this var\n",
    "    \n",
    "    def __init__(self, color, wheels):\n",
    "        self.color = color\n",
    "        self.wheels = wheels\n",
    "        \n",
    "mazda = Car(\"black\", 4)\n",
    "subaru = Car(\"blue\", 6)\n",
    "\n",
    "print(mazda.color)\n",
    "print(subaru.color)\n",
    "print(mazda.wheels)\n",
    "print(subaru.wheels)"
   ]
  },
  {
   "cell_type": "markdown",
   "metadata": {},
   "source": [
    "##### The 'self' Attribute <br>\n",
    "<p>This attribute is required to keep track of specific instance's attributes. Without the self attribute, the program would not know how to reference or keep track of an instance's attributes.</p>"
   ]
  },
  {
   "cell_type": "code",
   "execution_count": null,
   "metadata": {},
   "outputs": [],
   "source": [
    "# see above"
   ]
  },
  {
   "cell_type": "markdown",
   "metadata": {},
   "source": [
    "## Class Attributes <br>\n",
    "<p>While variables are inside of a class, they are referred to as attributes and not variables. When someone says 'attribute' you know they're speaking about a class. Attributes can be initialized through the init method, or outside of it.</p>"
   ]
  },
  {
   "cell_type": "markdown",
   "metadata": {},
   "source": [
    "##### Initializing Attributes"
   ]
  },
  {
   "cell_type": "code",
   "execution_count": 20,
   "metadata": {},
   "outputs": [],
   "source": [
    "# see above\n",
    "\n",
    "class Toy():\n",
    "    kind = \"car\" #called a constant\n",
    "    \n",
    "    def __init__(self, rooftop, horn, wheels):\n",
    "        self.rooftop = rooftop\n",
    "        self.horn = horn\n",
    "        self.wheels = wheels\n",
    "tonka_truck = Toy(1,1,4) # 1 rooftop, 1 horn, 4 wheels\n",
    "hotwheels_car = Toy(2, 3, 8) # 2 rooftop, 3 horns, 8 wheels\n"
   ]
  },
  {
   "cell_type": "markdown",
   "metadata": {},
   "source": [
    "##### Accessing Class Attributes"
   ]
  },
  {
   "cell_type": "code",
   "execution_count": 21,
   "metadata": {
    "scrolled": true
   },
   "outputs": [
    {
     "data": {
      "text/plain": [
       "8"
      ]
     },
     "execution_count": 21,
     "metadata": {},
     "output_type": "execute_result"
    }
   ],
   "source": [
    "# See Above\n",
    "\n",
    "tonka_truck.rooftop\n",
    "hotwheels_car.wheels"
   ]
  },
  {
   "cell_type": "markdown",
   "metadata": {},
   "source": [
    "##### Setting Defaults for Attributes"
   ]
  },
  {
   "cell_type": "code",
   "execution_count": 22,
   "metadata": {},
   "outputs": [
    {
     "data": {
      "text/plain": [
       "'blue'"
      ]
     },
     "execution_count": 22,
     "metadata": {},
     "output_type": "execute_result"
    }
   ],
   "source": [
    "class Car():\n",
    "    engine = \"4.7L\"\n",
    "    \n",
    "    def __init__(self, wheels):\n",
    "        self.wheels = wheels\n",
    "        self.color = \"blue\"\n",
    "honda = Car(4)\n",
    "honda.color"
   ]
  },
  {
   "cell_type": "markdown",
   "metadata": {},
   "source": [
    "##### Changing Class Attributes <br>\n",
    "<p>Keep in mind there are global class attributes and then there are attributes only available to each class instance which won't effect other classes.</p>"
   ]
  },
  {
   "cell_type": "code",
   "execution_count": 26,
   "metadata": {},
   "outputs": [
    {
     "name": "stdout",
     "output_type": "stream",
     "text": [
      "Before change: blue\n",
      "\n",
      "After change: white\n",
      "blue\n"
     ]
    }
   ],
   "source": [
    "jeep = Car(8)\n",
    "\n",
    "print(f\"Before change: {jeep.color}\")\n",
    "\n",
    "jeep.color = \"white\"\n",
    "print(f\"\\nAfter change: {jeep.color}\")\n",
    "print(honda.color)"
   ]
  },
  {
   "cell_type": "code",
   "execution_count": null,
   "metadata": {},
   "outputs": [],
   "source": []
  },
  {
   "cell_type": "markdown",
   "metadata": {},
   "source": [
    "##### In-Class Exercise #2 - Add a doors and seats attribute to your 'Car' class then print out two different instances with different doors and seats"
   ]
  },
  {
   "cell_type": "code",
   "execution_count": 12,
   "metadata": {},
   "outputs": [
    {
     "name": "stdout",
     "output_type": "stream",
     "text": [
      "Before change:\n",
      "This jeep has 8 seats and 2 doors with a hatchback and chrome details.\n",
      "This for has 2 seats and 6 doors with a hatchback and chrome details.\n",
      "After change:\n",
      "This jeep now has 4 seats and 4 doors with a hatchback and chrome details.\n",
      "This for now has 3 seats and 2 doors with a hatchback and chrome details.\n"
     ]
    }
   ],
   "source": [
    "class Car():\n",
    "    trunk = \"hatchback\"\n",
    "    detail = \"chrome\"\n",
    "    \n",
    "    def __init__(self, doors = 4, seats = 6):\n",
    "        self.doors = doors\n",
    "        self.seats = seats\n",
    "jeep = Car(2, 8) # (doors,seats)\n",
    "ford = Car(6, 2) # (doors,seats)\n",
    "print(\"Before change:\")\n",
    "print(f\"This jeep has {jeep.seats} seats and {jeep.doors} doors with a {jeep.trunk} and {jeep.detail} details.\")\n",
    "print(f\"This for has {ford.seats} seats and {ford.doors} doors with a {ford.trunk} and {ford.detail} details.\")\n",
    "\n",
    "jeep = Car(4,4) # (doors,seats)\n",
    "ford = Car(2,3) # (doors,seats)\n",
    "print(\"After change:\")\n",
    "print(f\"This jeep now has {jeep.seats} seats and {jeep.doors} doors with a {jeep.trunk} and {jeep.detail} details.\")\n",
    "print(f\"This for now has {ford.seats} seats and {ford.doors} doors with a {ford.trunk} and {ford.detail} details.\")"
   ]
  },
  {
   "cell_type": "markdown",
   "metadata": {},
   "source": [
    "## Class Methods <br>\n",
    "<p>While inside of a class, functions are referred to as 'methods'. If you hear someone mention methods, they're speaking about classes. Methods are essentially functions, but only callable on the instances of a class.</p>"
   ]
  },
  {
   "cell_type": "markdown",
   "metadata": {},
   "source": [
    "##### Creating"
   ]
  },
  {
   "cell_type": "code",
   "execution_count": 28,
   "metadata": {},
   "outputs": [],
   "source": [
    "class ShoppingBag():\n",
    "    \"\"\"\n",
    "        The shopping bag class will have handles, capacity, \n",
    "        and items to place inside.\n",
    "        \n",
    "        Attributes for the class:\n",
    "        - handles: expected to be an integer\n",
    "        - capacity: expected to be a string or an integer\n",
    "        - items: expected to be a list\n",
    "    \"\"\"\n",
    "    \n",
    "    def __init__(self, handles, capacity, items):\n",
    "        self.handles = handles\n",
    "        self.capacity = capacity\n",
    "        self.items = items\n",
    "        \n",
    "    # write a method that shows the items in our shopping bag / items list\n",
    "    def showShoppingBag(self):\n",
    "        print(\"You have items in your bag! \")\n",
    "        for item in self.items:\n",
    "            print(item)\n",
    "            \n",
    "    # Show the capacity of shopping bag / how much room is left\n",
    "    def showCapacity(self):\n",
    "        print(f\"Your capacity is: {self.capacity} \")\n",
    "        \n",
    "    # Add item(s) to the items list for the ShoppingBag\n",
    "    def addToShoppingBag(self):\n",
    "        products = input(\"What would you like to add? \")\n",
    "        self.items.append(products)\n",
    "    \n",
    "    # Change the capacity of the shopping bag\n",
    "    def changeBagCapacity(self, capacity):\n",
    "        self.capacity = capacity\n",
    "        \n",
    "    # Increase the capacity of the ShoppingBag by \n",
    "    def increaseCapacity(self, change_capacity = 10):\n",
    "        if self.capacity == isinstance(self.capacity, str):\n",
    "            print(\"We can't add that here! \")\n",
    "        else:\n",
    "            self.capacity += change_capacity\n",
    "    "
   ]
  },
  {
   "cell_type": "markdown",
   "metadata": {},
   "source": [
    "##### Calling"
   ]
  },
  {
   "cell_type": "code",
   "execution_count": 29,
   "metadata": {},
   "outputs": [
    {
     "name": "stdout",
     "output_type": "stream",
     "text": [
      "What do you want to do? add/show/quit add\n",
      "What would you like to add? grapes\n",
      "What do you want to do? add/show/quit add\n",
      "What would you like to add? lacroix\n",
      "What do you want to do? add/show/quit add\n",
      "What would you like to add? books\n",
      "What do you want to do? add/show/quit quit\n",
      "You have items in your bag! \n",
      "grapes\n",
      "lacroix\n",
      "books\n",
      "Thanks for shopping!\n"
     ]
    }
   ],
   "source": [
    "# See Above\n",
    "# So far, we created the idea of the shopping bag: Now we will actually instantiate it\n",
    "\n",
    "wholeFoods_bag = ShoppingBag(2,10,[])\n",
    "\n",
    "# Create a function to run the ShoppingBag methods on our wholeFoods_bag instance\n",
    "def run():\n",
    "    while True:\n",
    "        response = input(\"What do you want to do? add/show/quit \")\n",
    "        if response.lower() == 'quit':\n",
    "            wholeFoods_bag.showShoppingBag()\n",
    "            print(\"Thanks for shopping!\")\n",
    "            break\n",
    "        elif response.lower() == 'add':\n",
    "            wholeFoods_bag.addToShoppingBag()\n",
    "        elif response.lower() == 'show':\n",
    "            wholeFoods_bag.showShoppingBag()\n",
    "            if item\n",
    "        else:\n",
    "            print(\"Try another command\")\n",
    "            \n",
    "run()"
   ]
  },
  {
   "cell_type": "markdown",
   "metadata": {},
   "source": [
    "##### Modifying an Attribute's Value Through a Method"
   ]
  },
  {
   "cell_type": "code",
   "execution_count": 30,
   "metadata": {},
   "outputs": [
    {
     "name": "stdout",
     "output_type": "stream",
     "text": [
      "Your capacity is: 10 \n",
      "Capacity AFTER the change... \n",
      "Your capacity is: 40 \n"
     ]
    }
   ],
   "source": [
    "# Show the capacity\n",
    "wholeFoods_bag.showCapacity()\n",
    "print(\"Capacity AFTER the change... \")\n",
    "wholeFoods_bag.changeBagCapacity(40)\n",
    "wholeFoods_bag.showCapacity()"
   ]
  },
  {
   "cell_type": "markdown",
   "metadata": {},
   "source": [
    "##### Incrementing an Attribute's Value Through a Method"
   ]
  },
  {
   "cell_type": "code",
   "execution_count": 31,
   "metadata": {},
   "outputs": [
    {
     "name": "stdout",
     "output_type": "stream",
     "text": [
      "Your capacity is: 40 \n",
      "After increase: \n",
      "Your capacity is: 50 \n"
     ]
    }
   ],
   "source": [
    "wholeFoods_bag.showCapacity()\n",
    "print(\"After increase: \")\n",
    "wholeFoods_bag.increaseCapacity()\n",
    "wholeFoods_bag.showCapacity()"
   ]
  },
  {
   "cell_type": "markdown",
   "metadata": {},
   "source": [
    "##### In-Class Exercise #3 - Add a method that takes in three parameters of year, doors and seats and prints out a formatted print statement with make, model, year, seats, and doors"
   ]
  },
  {
   "cell_type": "code",
   "execution_count": 45,
   "metadata": {},
   "outputs": [
    {
     "name": "stdout",
     "output_type": "stream",
     "text": [
      "This car is from 2020 and is a Audi R8 and has 5 doors and 7 seats\n"
     ]
    },
    {
     "data": {
      "text/plain": [
       "'This is the end'"
      ]
     },
     "execution_count": 45,
     "metadata": {},
     "output_type": "execute_result"
    }
   ],
   "source": [
    "# Create class with 2 paramters inside of the __init__ which are make and model\n",
    "\n",
    "class Car(): # Declaration - Declaring something as an idea, a blueprint, does not exist\n",
    "    def __init__(self, make = \"Jeep\", model = \"Compass\"):\n",
    "        self.make = make\n",
    "        self.model = model\n",
    "        \n",
    "# Inside of the Car class create a method that has 4 parameter in total (self,year,door,seats)\n",
    "    def my_Car(self, year = 2018, door = 4, seats = 5):\n",
    "        self.year = year\n",
    "        self.door = door\n",
    "        self.seats = seats\n",
    "        \n",
    "        print(f\"This car is from {self.year} and is a {self.make} {self.model} and has {self.door} doors and {self.seats} seats\")\n",
    "        return \"This is the end\"\n",
    "audi = Car(\"Audi\", \"R8\") # Instantiation - going from a blueprint to a product\n",
    "        \n",
    "audi.my_Car(2020,5,7)\n",
    "# Output: This car is from 2019 and is a Ford Expolorer and has 4 doors and 5 seats\n",
    "\n",
    "\n",
    "\n",
    "\n"
   ]
  },
  {
   "cell_type": "code",
   "execution_count": null,
   "metadata": {},
   "outputs": [],
   "source": [
    "# ## Inheritance <br>\n",
    "# <p>You can create a child-parent relationship between two classes by using inheritance. What this allows you to do is have overriding methods, but also inherit traits from the parent class. Think of it as an actual parent and child, the child will inherit the parent's genes, as will the classes in OOP</p>"
   ]
  },
  {
   "cell_type": "markdown",
   "metadata": {},
   "source": [
    "##### Syntax for Inheriting from a Parent Class"
   ]
  },
  {
   "cell_type": "code",
   "execution_count": 16,
   "metadata": {},
   "outputs": [
    {
     "name": "stdout",
     "output_type": "stream",
     "text": [
      "Bark\n",
      "Make some generic sound. \n",
      "None\n",
      "9.8\n"
     ]
    },
    {
     "ename": "AttributeError",
     "evalue": "'Animal' object has no attribute 'speed'",
     "output_type": "error",
     "traceback": [
      "\u001b[1;31m---------------------------------------------------------------------------\u001b[0m",
      "\u001b[1;31mAttributeError\u001b[0m                            Traceback (most recent call last)",
      "\u001b[1;32m~\\AppData\\Local\\Temp/ipykernel_6012/1661982178.py\u001b[0m in \u001b[0;36m<module>\u001b[1;34m\u001b[0m\n\u001b[0;32m     37\u001b[0m \u001b[0mprint\u001b[0m\u001b[1;33m(\u001b[0m\u001b[0mlassie\u001b[0m\u001b[1;33m.\u001b[0m\u001b[0mmakeSound\u001b[0m\u001b[1;33m(\u001b[0m\u001b[1;33m)\u001b[0m\u001b[1;33m)\u001b[0m\u001b[1;33m\u001b[0m\u001b[1;33m\u001b[0m\u001b[0m\n\u001b[0;32m     38\u001b[0m \u001b[0mprint\u001b[0m\u001b[1;33m(\u001b[0m\u001b[0mbuster\u001b[0m\u001b[1;33m.\u001b[0m\u001b[0macceleration\u001b[0m\u001b[1;33m)\u001b[0m\u001b[1;33m\u001b[0m\u001b[1;33m\u001b[0m\u001b[0m\n\u001b[1;32m---> 39\u001b[1;33m \u001b[0mprint\u001b[0m\u001b[1;33m(\u001b[0m\u001b[0mbasic_animal\u001b[0m\u001b[1;33m.\u001b[0m\u001b[0mspeed\u001b[0m\u001b[1;33m)\u001b[0m\u001b[1;33m\u001b[0m\u001b[1;33m\u001b[0m\u001b[0m\n\u001b[0m",
      "\u001b[1;31mAttributeError\u001b[0m: 'Animal' object has no attribute 'speed'"
     ]
    }
   ],
   "source": [
    "# Create a parent class and call it animal\n",
    "class Animal():\n",
    "    acceleration = 9.8\n",
    "    \n",
    "    def __init__(self, name, species, legs = 4):\n",
    "        self.name = name\n",
    "        self.species = species\n",
    "        self.legs = legs\n",
    "        \n",
    "    # Generic parent method not overriding anything\n",
    "    def makeSound(self):\n",
    "        print(\"Make some generic sound. \")\n",
    "        \n",
    "# Make child class Dog\n",
    "class Dog(Animal):\n",
    "    def printInfo(self):\n",
    "        print(f\"The dog has {self.speed} mph in speed and {self.acceleration}\")\n",
    "\n",
    "# Creation of our grandchild class Mutt\n",
    "class Mutt(Dog):\n",
    "    color = \"Tan\"\n",
    "    \n",
    "    # Override the Animal class using the Dog class to overwrite the __init__ from the Animal\n",
    "    def __init__(self, name, species, eye_color, legs = 4):\n",
    "        Dog.__init__(self, name, species, legs)\n",
    "        self.eye_color = eye_color\n",
    "        \n",
    "    # Override makeSound method coming from Animal\n",
    "    def makeSound(self):\n",
    "        noise = \"Bark\"\n",
    "        return noise\n",
    "lassie = Dog(\"Lassie\", \"Dog\")\n",
    "basic_animal = Animal = Animal(\"Generic Animal Name\", \"Generic Animal Species\")\n",
    "buster = Mutt(\"Buster\", \"Mutt\", \"Brown\")\n",
    "\n",
    "print(buster.makeSound())\n",
    "print(lassie.makeSound())\n",
    "print(buster.acceleration)\n",
    "print(basic_animal.speed)\n"
   ]
  },
  {
   "cell_type": "markdown",
   "metadata": {},
   "source": [
    "##### The \\__init\\__() Method for a Child Class - super()"
   ]
  },
  {
   "cell_type": "code",
   "execution_count": 18,
   "metadata": {
    "scrolled": true
   },
   "outputs": [
    {
     "name": "stdout",
     "output_type": "stream",
     "text": [
      "Bark\n",
      "Make some generic sound. \n",
      "None\n",
      "9.8\n"
     ]
    },
    {
     "ename": "AttributeError",
     "evalue": "'Mutt' object has no attribute 'speed'",
     "output_type": "error",
     "traceback": [
      "\u001b[1;31m---------------------------------------------------------------------------\u001b[0m",
      "\u001b[1;31mAttributeError\u001b[0m                            Traceback (most recent call last)",
      "\u001b[1;32m~\\AppData\\Local\\Temp/ipykernel_6012/3319358365.py\u001b[0m in \u001b[0;36m<module>\u001b[1;34m\u001b[0m\n\u001b[0;32m     19\u001b[0m \u001b[0mprint\u001b[0m\u001b[1;33m(\u001b[0m\u001b[0mlassie\u001b[0m\u001b[1;33m.\u001b[0m\u001b[0mmakeSound\u001b[0m\u001b[1;33m(\u001b[0m\u001b[1;33m)\u001b[0m\u001b[1;33m)\u001b[0m\u001b[1;33m\u001b[0m\u001b[1;33m\u001b[0m\u001b[0m\n\u001b[0;32m     20\u001b[0m \u001b[0mprint\u001b[0m\u001b[1;33m(\u001b[0m\u001b[0mbuster\u001b[0m\u001b[1;33m.\u001b[0m\u001b[0macceleration\u001b[0m\u001b[1;33m)\u001b[0m\u001b[1;33m\u001b[0m\u001b[1;33m\u001b[0m\u001b[0m\n\u001b[1;32m---> 21\u001b[1;33m \u001b[0mprint\u001b[0m\u001b[1;33m(\u001b[0m\u001b[0mbuster\u001b[0m\u001b[1;33m.\u001b[0m\u001b[0mspeed\u001b[0m\u001b[1;33m)\u001b[0m\u001b[1;33m\u001b[0m\u001b[1;33m\u001b[0m\u001b[0m\n\u001b[0m",
      "\u001b[1;31mAttributeError\u001b[0m: 'Mutt' object has no attribute 'speed'"
     ]
    }
   ],
   "source": [
    "class Puppy(Dog):\n",
    "    color = \"Black and brown\"\n",
    "    \n",
    "    # Override the Animal class __init__ (via dog class)\n",
    "    def __init__(self, name, species, eye_color, legs = 4):\n",
    "        super().__init__(name, species, legs)\n",
    "        self.eye_color = eye_color\n",
    "        \n",
    "    # Override the makeSound method\n",
    "    def makeSound(self):\n",
    "        noise = \"Bark\"\n",
    "        return noise\n",
    "\n",
    "lassie = Dog(\"Lassie\", \"Dog\")\n",
    "# basic_animal = Animal(\"Generic Animal Name\", \"Generic Animal Species\")\n",
    "buster = Mutt(\"Buster\", \"Mutt\", \"Brown\")\n",
    "\n",
    "print(buster.makeSound())\n",
    "print(lassie.makeSound())\n",
    "print(buster.acceleration)\n",
    "print(buster.speed)"
   ]
  },
  {
   "cell_type": "markdown",
   "metadata": {},
   "source": [
    "##### Defining Attributes and Methods for the Child Class"
   ]
  },
  {
   "cell_type": "code",
   "execution_count": null,
   "metadata": {},
   "outputs": [],
   "source": [
    "# See Above"
   ]
  },
  {
   "cell_type": "markdown",
   "metadata": {},
   "source": [
    "##### Method Overriding"
   ]
  },
  {
   "cell_type": "code",
   "execution_count": null,
   "metadata": {},
   "outputs": [],
   "source": [
    "# See Above"
   ]
  },
  {
   "cell_type": "markdown",
   "metadata": {},
   "source": [
    "## Classes as Attributes <br>\n",
    "<p>Classes can also be used as attributes within another class. This is useful in situations where you need to keep variables locally stored, instead of globally stored.</p>"
   ]
  },
  {
   "cell_type": "code",
   "execution_count": 19,
   "metadata": {},
   "outputs": [
    {
     "name": "stdout",
     "output_type": "stream",
     "text": [
      "20\n"
     ]
    },
    {
     "data": {
      "text/plain": [
       "'2019 Tesla Model X 20'"
      ]
     },
     "execution_count": 19,
     "metadata": {},
     "output_type": "execute_result"
    }
   ],
   "source": [
    "class Battery():\n",
    "    volts = 7.8\n",
    "    \n",
    "    def __init__(self, cells):\n",
    "        self.cells = cells\n",
    "class Car():\n",
    "    def __init__(self, year, make, model, battery):\n",
    "        self.year = year\n",
    "        self. make = make\n",
    "        self.model = model\n",
    "        self.battery = battery\n",
    "    \n",
    "    def printInfo(self):\n",
    "        return f\"{self.year} {self.make} {self.model} {self.battery.cells}\"\n",
    "    \n",
    "my_battery = Battery(20)\n",
    "\n",
    "tesla = Car(2019, \"Tesla\", \"Model X\", my_battery)\n",
    "\n",
    "print(tesla.battery.cells)\n",
    "tesla.printInfo()\n",
    "    "
   ]
  },
  {
   "cell_type": "markdown",
   "metadata": {},
   "source": [
    "# Exercises"
   ]
  },
  {
   "cell_type": "markdown",
   "metadata": {},
   "source": [
    "### Exercise 1 - Turn the shopping cart program from yesterday into an object-oriented program\n",
    "\n",
    "The comments in the cell below are there as a guide for thinking about the problem. However, if you feel a different way is best for you and your own thought process, please do what feels best for you by all means."
   ]
  },
  {
   "cell_type": "code",
   "execution_count": 28,
   "metadata": {
    "scrolled": false
   },
   "outputs": [
    {
     "name": "stdout",
     "output_type": "stream",
     "text": [
      "Do you want to: Show/Add/Delete or Quit? add\n",
      "What would you like to add? box\n",
      "Do you want to: Show/Add/Delete or Quit? add\n",
      "What would you like to add? belt\n",
      "Do you want to: Show/Add/Delete or Quit? add\n",
      "What would you like to add? books\n",
      "Do you want to: Show/Add/Delete or Quit? add\n",
      "What would you like to add? apple\n",
      "Do you want to: Show/Add/Delete or Quit? show\n",
      "You have the following items in your cart: \n",
      "box\n",
      "belt\n",
      "books\n",
      "apple\n",
      "Do you want to: Show/Add/Delete or Quit? delete\n",
      "What item would you like to delete? apple\n",
      "apple was deleted\n",
      "Your cart now contains: \n",
      "box\n",
      "belt\n",
      "books\n",
      "Do you want to: Show/Add/Delete or Quit? quit\n",
      "You have the following items in your cart: \n",
      "box\n",
      "belt\n",
      "books\n",
      "Thanks for shopping!\n"
     ]
    }
   ],
   "source": [
    "# # Create a class called cart that retains items and has methods to add, remove, and show\n",
    "# from IPython.display import clear_output\n",
    "\n",
    "# # Ask the user four bits of input: Do you want to : Show/Add/Delete or Quit?\n",
    "        \n",
    "    # CART FROM PREVIOUS ASSIGNMENT\n",
    "# def shopping_cart():\n",
    "#     cart = []\n",
    "#     user_response = \"\"\n",
    "#     while user_response.lower() != \"quit\":\n",
    "#         user_response = input(\"Do you want to : Show/Add/Delete or Quit? \").lower()\n",
    "#         if user_response == \"show\":\n",
    "#             print(cart)\n",
    "#         elif user_response == \"add\":\n",
    "#             cart.append(input(\"What item would you like to add? \").lower())\n",
    "#         elif user_response == \"delete\":\n",
    "#             item_to_delete = input(\"What item would you like to delete? \").lower()\n",
    "#             cart.remove(item_to_delete)\n",
    "#             print(item_to_delete, \" was deleted\")\n",
    "#     print(cart)\n",
    "            \n",
    "# shopping_cart()\n",
    "class Cart():\n",
    "    \n",
    "    def __init__(self, myCart, response, products):\n",
    "        self.myCart = []\n",
    "        self.response = \"\"\n",
    "        self.products = products\n",
    "                \n",
    "    def endCart(self, response):\n",
    "        print(\"You have the following items in your cart: \")\n",
    "        for products in self.myCart:\n",
    "            print(products)\n",
    "            \n",
    "    def addCart(self, products):\n",
    "        products = input(\"What would you like to add? \")\n",
    "        self.myCart.append(products)\n",
    "        \n",
    "    def showCart(self, myCart):\n",
    "        print(\"You have the following items in your cart: \")\n",
    "        for products in self.myCart:\n",
    "            print(products)\n",
    "    \n",
    "    def delCart(self, response):\n",
    "            item_to_delete = input(\"What item would you like to delete? \").lower()\n",
    "            self.myCart.remove(item_to_delete)\n",
    "            print(item_to_delete, \"was deleted\")\n",
    "            print(\"Your cart now contains: \")\n",
    "            for products in self.myCart:\n",
    "                print(products)\n",
    "        \n",
    "walmartCart = Cart([], \"\", '')\n",
    "\n",
    "def run():\n",
    "    while True:\n",
    "        response = input(\"Do you want to: Show/Add/Delete or Quit? \")\n",
    "        if response.lower() == 'quit':\n",
    "            walmartCart.endCart(\"\")\n",
    "            print(\"Thanks for shopping!\")\n",
    "            break\n",
    "        elif response.lower() == 'add':\n",
    "            walmartCart.addCart(\"\")\n",
    "        elif response.lower() == 'delete':\n",
    "            walmartCart.delCart(\"\")\n",
    "        elif response.lower() == 'show':\n",
    "            walmartCart.showCart(\"\")\n",
    "        else:\n",
    "            print(\"Try another command\")\n",
    "            \n",
    "run()\n",
    "    "
   ]
  },
  {
   "cell_type": "markdown",
   "metadata": {},
   "source": [
    "### Exercise 2 - Write a Python class which has two methods get_String and print_String. get_String accept a string from the user and print_String print the string in upper case"
   ]
  },
  {
   "cell_type": "code",
   "execution_count": 50,
   "metadata": {},
   "outputs": [
    {
     "name": "stdout",
     "output_type": "stream",
     "text": [
      "What would you like to tell me? You're the coolest!\n",
      "YOU'RE THE COOLEST!\n"
     ]
    }
   ],
   "source": [
    "class Passing():\n",
    "    \n",
    "    def __init__(self):\n",
    "        self.string = \"\"\n",
    "    \n",
    "    def get_String(self):\n",
    "        self.string = input(\"What would you like to tell me? \")\n",
    "    \n",
    "    def print_String(self):\n",
    "        print(self.string.upper())\n",
    "\n",
    "string = Passing()\n",
    "string.get_String()\n",
    "string.print_String()\n",
    "\n",
    "\n",
    "        "
   ]
  }
 ],
 "metadata": {
  "kernelspec": {
   "display_name": "Python 3 (ipykernel)",
   "language": "python",
   "name": "python3"
  },
  "language_info": {
   "codemirror_mode": {
    "name": "ipython",
    "version": 3
   },
   "file_extension": ".py",
   "mimetype": "text/x-python",
   "name": "python",
   "nbconvert_exporter": "python",
   "pygments_lexer": "ipython3",
   "version": "3.9.7"
  }
 },
 "nbformat": 4,
 "nbformat_minor": 2
}
